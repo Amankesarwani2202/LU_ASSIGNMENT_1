{
 "cells": [
  {
   "cell_type": "markdown",
   "metadata": {},
   "source": [
    "# ASSIGNMENT_2"
   ]
  },
  {
   "cell_type": "markdown",
   "metadata": {},
   "source": [
    "# Questions 1:\n",
    "Create an empty list. Accept 10 numbers from the user and append to it the list if it is an even number.\n"
   ]
  },
  {
   "cell_type": "code",
   "execution_count": null,
   "metadata": {},
   "outputs": [],
   "source": [
    "Answer\n",
    "# creating a empty list\n",
    "lst = []\n",
    "\n",
    "\n",
    "# getting 10 values from user\n",
    "for i in range(0,10):\n",
    "    x = int(input(\"Enter the value : \"))\n",
    "    lst.append(x)\n",
    "    \n",
    "# creating a empty list to append event numbers\n",
    "even_lst = []\n",
    "\n",
    "# appending only even numbers\n",
    "for i in lst:\n",
    "    if(i%2==0):\n",
    "        even_lst.append(i)\n",
    "        \n",
    "print(\"The even list is \",even_lst)"
   ]
  },
  {
   "cell_type": "markdown",
   "metadata": {},
   "source": [
    "# Questions 2:\n",
    "Create a notebook on LIST COMPREHENSION. This exercise is to put you in a Self learning mode"
   ]
  },
  {
   "cell_type": "markdown",
   "metadata": {},
   "source": [
    "# Answer\n",
    "List comprehensions provide a concise way to create lists.\n",
    "\n",
    "It consists of brackets containing an expression followed by a for clause, then\n",
    "zero or more for or if clauses. The expressions can be anything, meaning you can\n",
    "put in all kinds of objects in lists.\n",
    "The result will be a new list resulting from evaluating the expression in the\n",
    "context of the for and if clauses which follow it.\n",
    "\n",
    "The list comprehension always returns a result list.\n",
    "Syntax\n",
    "The list comprehension starts with a ‘[‘ and ‘]’, square brackets, to help you remember that the\n",
    "result is going to be a list.\n",
    "\n",
    "The basic syntax uses square brackets.\n",
    "\n",
    "[ expression for item in list if conditional ]\n",
    "This is equivalent to:\n",
    "\n",
    "for item in list:\n",
    "    if conditional:\n",
    "        expression"
   ]
  },
  {
   "cell_type": "markdown",
   "metadata": {},
   "source": [
    "# Questions 3:\n",
    "You have seen in the videos how powerful dictionary data structure is.\n",
    "In this assignment, given a number n, you have to write a program that generates a dictionary d which\n",
    "contains (i, i*i), where i is from 1 to n (both included).\n",
    "Then you have to just print this dictionary d.\n",
    "Example:\n",
    "Input: 4\n",
    "will give output as\n",
    "{1: 1, 2: 4, 3: 9, 4: 16}\n",
    "Input Format:\n",
    "Take the number n in a single line.\n",
    "Output Format:\n",
    "Print the dictionary d in a single line.\n",
    "Example:\n",
    "Input:\n",
    "8\n",
    "Output:\n",
    "{1: 1, 2: 4, 3: 9, 4: 16, 5: 25, 6: 36, 7: 49, 8: 64}\n"
   ]
  },
  {
   "cell_type": "code",
   "execution_count": 9,
   "metadata": {},
   "outputs": [
    {
     "name": "stdout",
     "output_type": "stream",
     "text": [
      "8\n",
      "{1: 1, 2: 4, 3: 9, 4: 16, 5: 25, 6: 36, 7: 49, 8: 64}\n"
     ]
    }
   ],
   "source": [
    "dic = {}\n",
    "n = int(input())\n",
    "for i in range(1,n+1):\n",
    "  dic[i] = i*i\n",
    "print(dic)\n"
   ]
  },
  {
   "cell_type": "markdown",
   "metadata": {},
   "source": [
    "# Questions 4:\n",
    "There is a robot which wants to go the charging point to charge itself.\n",
    "The robot moves in a 2-D plane from the original point (0,0). The robot can\n",
    "move toward UP, DOWN, LEFT and RIGHT with given steps.\n",
    "The trace of robot movement is shown as the following:\n",
    "UP 5\n",
    "DOWN 3\n",
    "LEFT 3\n",
    "RIGHT 2\n",
    "Then, the output of the program should be:\n",
    "2\n",
    "The numbers after the direction are steps.\n",
    "Write a program to compute the distance between the current position after\n",
    "a sequence of movement and original point. If the distance is a float, then\n",
    "just print the nearest integer (use round() function for that and then convert\n",
    "it into an integer).\n",
    "Input Format:\n",
    "The first line of the input contains a number n which implies the number of\n",
    "directions to be given.\n",
    "The next n lines contain the direction and the step separated by a space.\n",
    "Output Format:\n",
    "Print the distance from the original position to the current position.\n",
    "Example:\n",
    "Input:\n",
    "4\n",
    "UP 5\n",
    "DOWN 3\n",
    "LEFT 3\n",
    "RIGHT 2\n",
    "Output:\n",
    "2"
   ]
  },
  {
   "cell_type": "code",
   "execution_count": 13,
   "metadata": {},
   "outputs": [
    {
     "name": "stdout",
     "output_type": "stream",
     "text": [
      "4\n",
      "UP 5\n",
      "DOWN 3\n",
      "LEFT 3\n",
      "RIGHT 2\n",
      "2\n"
     ]
    }
   ],
   "source": [
    "posi = {\"x\":0,\"y\":0}\n",
    "n = int(input())\n",
    "for i in range (n):\n",
    "    move =  input().split(\" \")        \n",
    "    if move[0].lower() == \"up\":     \n",
    "        posi[\"y\"] += int(move[1])     \n",
    "    elif move[0].lower() == \"down\":\n",
    "        posi[\"y\"] -= int(move[1])\n",
    "    \n",
    "    elif move[0].lower() == \"left\":\n",
    "        posi[\"x\"] -= int(move[1])\n",
    "    \n",
    "    elif move[0].lower() == \"right\":\n",
    "        posi[\"x\"] += int(move[1])\n",
    "print(int(round((posi[\"x\"]**2 + posi[\"y\"]**2)**0.5)))"
   ]
  },
  {
   "cell_type": "code",
   "execution_count": null,
   "metadata": {},
   "outputs": [],
   "source": []
  }
 ],
 "metadata": {
  "kernelspec": {
   "display_name": "Python 3",
   "language": "python",
   "name": "python3"
  },
  "language_info": {
   "codemirror_mode": {
    "name": "ipython",
    "version": 3
   },
   "file_extension": ".py",
   "mimetype": "text/x-python",
   "name": "python",
   "nbconvert_exporter": "python",
   "pygments_lexer": "ipython3",
   "version": "3.7.4"
  }
 },
 "nbformat": 4,
 "nbformat_minor": 2
}
