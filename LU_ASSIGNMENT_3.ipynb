{
 "cells": [
  {
   "cell_type": "markdown",
   "metadata": {},
   "source": [
    "# Assignment Day 3"
   ]
  },
  {
   "cell_type": "markdown",
   "metadata": {},
   "source": [
    "# Questions 1:\n",
    "Create a numpy array starting from 2 till 50 with a stepsize of 3."
   ]
  },
  {
   "cell_type": "code",
   "execution_count": 1,
   "metadata": {},
   "outputs": [
    {
     "name": "stdout",
     "output_type": "stream",
     "text": [
      "[ 2  5  8 11 14 17 20 23 26 29 32 35 38 41 44 47]\n"
     ]
    }
   ],
   "source": [
    "import numpy as np\n",
    "ary = np.arange(2, 50, 3)\n",
    "print(ary)"
   ]
  },
  {
   "cell_type": "markdown",
   "metadata": {},
   "source": [
    "# Questions 2:\n",
    "Accept two lists of 5 elements each from the user.\n",
    "Convert them to numpy arrays. Concatenate these arrays and print it. Also sort these arrays and print it."
   ]
  },
  {
   "cell_type": "code",
   "execution_count": 4,
   "metadata": {},
   "outputs": [
    {
     "name": "stdout",
     "output_type": "stream",
     "text": [
      "Enter the value for list 1 :- 0\n",
      "Enter the value for list 1 :- 7\n",
      "Enter the value for list 1 :- 4\n",
      "Enter the value for list 1 :- 10\n",
      "Enter the value for list 1 :- 8\n",
      "Enter the value for list 2 :- 1\n",
      "Enter the value for list 2 :- 5\n",
      "Enter the value for list 2 :- 2\n",
      "Enter the value for list 2 :- 6\n",
      "Enter the value for list 2 :- 3\n",
      "Array value after concatenated arrays :- [ 0  7  4 10  8  1  5  2  6  3]\n",
      "Sorted Array of concatenated array :- [ 0  1  2  3  4  5  6  7  8 10]\n"
     ]
    }
   ],
   "source": [
    "import numpy as np\n",
    "lt_1 = []\n",
    "lt_2 = []\n",
    "for i in range(5):\n",
    "  x=int(input(\"Enter the value for list 1 :- \"))\n",
    "  lt_1.append(x)\n",
    "for i in range(5):\n",
    "  y=int(input(\"Enter the value for list 2 :- \"))\n",
    "  lt_2.append(y)\n",
    "ary_1 = np.array(lt_1)\n",
    "ary_2 = np.array(lt_2)\n",
    "ary = np.concatenate((ary_1, ary_2))\n",
    "print(\"Array value after concatenated arrays :-\",ary)\n",
    "sortedAry = np.sort(ary)\n",
    "print(\"Sorted Array of concatenated array :-\",sortedAry)"
   ]
  },
  {
   "cell_type": "markdown",
   "metadata": {},
   "source": [
    "# Questions 3:\n",
    "Write a code snippet to find the dimensions of a ndarray and its size."
   ]
  },
  {
   "cell_type": "code",
   "execution_count": 6,
   "metadata": {},
   "outputs": [
    {
     "name": "stdout",
     "output_type": "stream",
     "text": [
      "Dimensions of array :-  2\n",
      "Size of array :-  6\n"
     ]
    }
   ],
   "source": [
    "import numpy as np\n",
    "#2Dimensional Array\n",
    "ary = np.array([[4,5,6],[5,1,3]])\n",
    "#syntax for finding dimension: ArrayName.ndim\n",
    "print(\"Dimensions of array :- \", ary.ndim)\n",
    "#syntax for finding size: ArrayName.size\n",
    "print(\"Size of array :- \", ary.size)"
   ]
  },
  {
   "cell_type": "markdown",
   "metadata": {},
   "source": [
    "# Questions 4:\n",
    "\n",
    "How to convert a 1D array into a 2D array? Demonstrate with the help of a code snippet\n",
    "Hint: np.newaxis, np.expand_dims"
   ]
  },
  {
   "cell_type": "code",
   "execution_count": 9,
   "metadata": {},
   "outputs": [
    {
     "name": "stdout",
     "output_type": "stream",
     "text": [
      "Shape of Array : (20,)\n",
      "Shape of 2d Array in row major : (1, 20)\n",
      "Shape of 2d Array in column major : (20, 1)\n"
     ]
    }
   ],
   "source": [
    "import numpy as np\n",
    "ary = np.arange(20)\n",
    "print(\"Shape of Array :\",ary.shape)\n",
    "row_ary = ary[np.newaxis, :]\n",
    "print(\"Shape of 2d Array in row major :\",row_ary.shape)\n",
    "col_ary = ary[:, np.newaxis]\n",
    "print(\"Shape of 2d Array in column major :\",col_ary.shape)"
   ]
  },
  {
   "cell_type": "markdown",
   "metadata": {},
   "source": [
    "# Questions 5:\n",
    "Consider two square numpy arrays. Stack them vertically and horizontally.\n",
    "Hint: Use vstack(), hstack()"
   ]
  },
  {
   "cell_type": "code",
   "execution_count": 11,
   "metadata": {},
   "outputs": [
    {
     "name": "stdout",
     "output_type": "stream",
     "text": [
      "Horizontal Append : [36 49 64  1  4  9]\n",
      "Vertical Append : [[36 49 64]\n",
      " [ 1  4  9]]\n"
     ]
    }
   ],
   "source": [
    "import numpy as np\n",
    "ary_1 = np.square([6, 7, 8])\n",
    "ary_2 = np.square([1, 2, 3])\n",
    "print(\"Horizontal Append :\", np.hstack((ary_1, ary_2)))\n",
    "print(\"Vertical Append :\", np.vstack((ary_1, ary_2)))"
   ]
  },
  {
   "cell_type": "markdown",
   "metadata": {},
   "source": [
    "# Questions 6:\n",
    "How to get unique items and counts of unique items?"
   ]
  },
  {
   "cell_type": "code",
   "execution_count": 12,
   "metadata": {},
   "outputs": [
    {
     "name": "stdout",
     "output_type": "stream",
     "text": [
      "[[ 1  1]\n",
      " [ 4  2]\n",
      " [ 5  2]\n",
      " [ 8  1]\n",
      " [10  1]\n",
      " [12  1]\n",
      " [16  1]\n",
      " [25  2]\n",
      " [45  1]]\n"
     ]
    }
   ],
   "source": [
    "import numpy as np\n",
    "\n",
    "ary_1 = np.array([1,4,5,10,8,4,5,16,25,12,45,25])\n",
    "unique, counts = np.unique(ary_1, return_counts=True)\n",
    "ary = np.asarray((unique, counts)).T\n",
    "print(ary)"
   ]
  }
 ],
 "metadata": {
  "kernelspec": {
   "display_name": "Python 3",
   "language": "python",
   "name": "python3"
  },
  "language_info": {
   "codemirror_mode": {
    "name": "ipython",
    "version": 3
   },
   "file_extension": ".py",
   "mimetype": "text/x-python",
   "name": "python",
   "nbconvert_exporter": "python",
   "pygments_lexer": "ipython3",
   "version": "3.7.4"
  }
 },
 "nbformat": 4,
 "nbformat_minor": 2
}
